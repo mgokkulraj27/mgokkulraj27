{
 "cells": [
  {
   "cell_type": "code",
   "execution_count": 2,
   "id": "5c603226",
   "metadata": {},
   "outputs": [],
   "source": [
    "import pandas as pd\n",
    "import numpy as np\n",
    "from scipy import stats"
   ]
  },
  {
   "cell_type": "markdown",
   "id": "5614cd26",
   "metadata": {},
   "source": [
    "## Business Problem\n",
    "Is there a significant difference in the average Turn Around Time between laboratories ?\n"
   ]
  },
  {
   "cell_type": "markdown",
   "id": "f3ea0247",
   "metadata": {},
   "source": [
    "## Data description\n",
    "\n",
    "α is given as 0.05 (95% Confidence)\n",
    "\n",
    "Y is a Continious Data\n",
    "\n",
    "X is a Discrete Data\n",
    "\n",
    "Is Y1, Y2, Y3 and Y4 normal ?\n",
    "\n",
    "H0 = Y1, Y2, Y3 and Y4 are normal  \n",
    "H1 = Y1, Y2, Y3 and Y4 are not normal\n"
   ]
  },
  {
   "cell_type": "markdown",
   "id": "a0954f65",
   "metadata": {},
   "source": [
    "##  Normality Test "
   ]
  },
  {
   "cell_type": "code",
   "execution_count": 3,
   "id": "69fc93c3",
   "metadata": {},
   "outputs": [],
   "source": [
    "df = pd.read_csv(\"LabTAT.csv\")"
   ]
  },
  {
   "cell_type": "code",
   "execution_count": 4,
   "id": "9d3fb8d2",
   "metadata": {},
   "outputs": [
    {
     "data": {
      "text/plain": [
       "ShapiroResult(statistic=0.9901824593544006, pvalue=0.5506953597068787)"
      ]
     },
     "execution_count": 4,
     "metadata": {},
     "output_type": "execute_result"
    }
   ],
   "source": [
    "stats.shapiro(df[\"Laboratory 1\"])"
   ]
  },
  {
   "cell_type": "markdown",
   "id": "8f59f26c",
   "metadata": {},
   "source": [
    "(0.9901824593544006, 0.5506953597068787)  \n",
    "P value for Laboratory 1 == 0.55 > α"
   ]
  },
  {
   "cell_type": "code",
   "execution_count": 5,
   "id": "0509cfb5",
   "metadata": {},
   "outputs": [
    {
     "data": {
      "text/plain": [
       "ShapiroResult(statistic=0.9936322569847107, pvalue=0.8637524843215942)"
      ]
     },
     "execution_count": 5,
     "metadata": {},
     "output_type": "execute_result"
    }
   ],
   "source": [
    "stats.shapiro(df[\"Laboratory 2\"])"
   ]
  },
  {
   "cell_type": "markdown",
   "id": "cea9b08b",
   "metadata": {},
   "source": [
    "(0.9936322569847107, 0.8637524843215942)  \n",
    "P value for Laboratory 2 == 0.86 > α"
   ]
  },
  {
   "cell_type": "code",
   "execution_count": 6,
   "id": "c9461c6f",
   "metadata": {},
   "outputs": [
    {
     "data": {
      "text/plain": [
       "ShapiroResult(statistic=0.9886345267295837, pvalue=0.4205053448677063)"
      ]
     },
     "execution_count": 6,
     "metadata": {},
     "output_type": "execute_result"
    }
   ],
   "source": [
    "stats.shapiro(df[\"Laboratory 3\"])"
   ]
  },
  {
   "cell_type": "markdown",
   "id": "88870d5b",
   "metadata": {},
   "source": [
    "(0.9886345267295837, 0.4205053448677063)  \n",
    "P value for Laboratory 3 == 0.42 > α"
   ]
  },
  {
   "cell_type": "code",
   "execution_count": 7,
   "id": "e9e08d29",
   "metadata": {},
   "outputs": [
    {
     "data": {
      "text/plain": [
       "ShapiroResult(statistic=0.9913753271102905, pvalue=0.6618951559066772)"
      ]
     },
     "execution_count": 7,
     "metadata": {},
     "output_type": "execute_result"
    }
   ],
   "source": [
    "stats.shapiro(df[\"Laboratory 4\"])"
   ]
  },
  {
   "cell_type": "markdown",
   "id": "fd295902",
   "metadata": {},
   "source": [
    "(0.9913753271102905, 0.6618951559066772)    \n",
    "P value for Y1 (Unit B) == 0.66 > α"
   ]
  },
  {
   "cell_type": "markdown",
   "id": "007ca8fb",
   "metadata": {},
   "source": [
    "### HO is accepted. Thats is Y1, Y2, Y3, and Y4 are normal"
   ]
  },
  {
   "cell_type": "markdown",
   "id": "ec69addb",
   "metadata": {},
   "source": [
    "## Variance"
   ]
  },
  {
   "cell_type": "markdown",
   "id": "5e3a8c08",
   "metadata": {},
   "source": [
    "H0 == Variance of all 4 laboratories are the same  \n",
    "H1 == Variance of all 4 laboratories are the not same"
   ]
  },
  {
   "cell_type": "code",
   "execution_count": 8,
   "id": "1d8d40a7",
   "metadata": {},
   "outputs": [
    {
     "data": {
      "text/plain": [
       "LeveneResult(statistic=2.599642500418024, pvalue=0.05161343808309816)"
      ]
     },
     "execution_count": 8,
     "metadata": {},
     "output_type": "execute_result"
    }
   ],
   "source": [
    "stats.levene(df[\"Laboratory 1\"], df[\"Laboratory 2\"], df[\"Laboratory 3\"], df[\"Laboratory 4\"])"
   ]
  },
  {
   "cell_type": "markdown",
   "id": "3b51c0b5",
   "metadata": {},
   "source": [
    "LeveneResult(statistic=2.599642500418024, pvalue=0.05161343808309816)  \n",
    "P Value of Variance test is == 0.051 > α"
   ]
  },
  {
   "cell_type": "markdown",
   "id": "9202fdff",
   "metadata": {},
   "source": [
    "### H0 is accepted  \n",
    "### Thus we will perform one way Anova Test"
   ]
  },
  {
   "cell_type": "markdown",
   "id": "9ce2ed18",
   "metadata": {},
   "source": [
    "##  Model"
   ]
  },
  {
   "cell_type": "markdown",
   "id": "05696366",
   "metadata": {},
   "source": [
    "H0 == Mean TAT for 4 laboratories equal (There is no significance difference between TAT of the laboratories)  \n",
    "H1 == Mean TAT for 4 laboratories not equal (There is a significance difference between TAT of the laboratories)"
   ]
  },
  {
   "cell_type": "code",
   "execution_count": 9,
   "id": "fd0ddc28",
   "metadata": {},
   "outputs": [
    {
     "data": {
      "text/plain": [
       "F_onewayResult(statistic=118.70421654401437, pvalue=2.1156708949992414e-57)"
      ]
     },
     "execution_count": 9,
     "metadata": {},
     "output_type": "execute_result"
    }
   ],
   "source": [
    "stats.stats.f_oneway(df[\"Laboratory 1\"], df[\"Laboratory 2\"], df[\"Laboratory 3\"], df[\"Laboratory 4\"])"
   ]
  },
  {
   "cell_type": "markdown",
   "id": "39fc19ac",
   "metadata": {},
   "source": [
    "F_onewayResult(statistic=118.70421654401437, pvalue=2.1156708949992414e-57)  \n",
    "P value of the One way Anova test is == 2e-16 < α  "
   ]
  },
  {
   "cell_type": "markdown",
   "id": "2ed2496b",
   "metadata": {},
   "source": [
    "## Thus H1 is accepted.  \n",
    "## Mean TAT for 4 laboratories not equal (There is a significance difference between TAT of the laboratories)"
   ]
  }
 ],
 "metadata": {
  "kernelspec": {
   "display_name": "Python 3",
   "language": "python",
   "name": "python3"
  },
  "language_info": {
   "codemirror_mode": {
    "name": "ipython",
    "version": 3
   },
   "file_extension": ".py",
   "mimetype": "text/x-python",
   "name": "python",
   "nbconvert_exporter": "python",
   "pygments_lexer": "ipython3",
   "version": "3.8.8"
  }
 },
 "nbformat": 4,
 "nbformat_minor": 5
}
