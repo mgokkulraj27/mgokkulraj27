{
 "cells": [
  {
   "cell_type": "code",
   "execution_count": 1,
   "id": "f3eb1e7b",
   "metadata": {
    "scrolled": true
   },
   "outputs": [],
   "source": [
    "import pandas as pd\n",
    "import numpy as np\n",
    "from scipy import stats"
   ]
  },
  {
   "cell_type": "markdown",
   "id": "5684dd80",
   "metadata": {},
   "source": [
    "###  Business Problem is given as \n",
    "Is the male-female buyer rations are similar across regions"
   ]
  },
  {
   "cell_type": "markdown",
   "id": "06a0487c",
   "metadata": {},
   "source": [
    "## Data description is given as \n",
    "\n",
    "α is given as 0.05 (95% Confidence)\n",
    "\n",
    "Y is a Discrete data\n",
    "\n",
    "X is a Discrete data \n",
    "\n",
    "Chi Square test is performed as there are two variables"
   ]
  },
  {
   "cell_type": "markdown",
   "id": "a418766a",
   "metadata": {},
   "source": [
    "## Chi-Square Test"
   ]
  },
  {
   "cell_type": "code",
   "execution_count": 2,
   "id": "3aa45102",
   "metadata": {},
   "outputs": [],
   "source": [
    "df = pd.read_csv(\"BuyerRatio.csv\")"
   ]
  },
  {
   "cell_type": "markdown",
   "id": "33032b92",
   "metadata": {},
   "source": [
    "H0 = The male-female buyer rations are similar across regions  \n",
    "H1 = The male-female buyer rations are not similar across regions"
   ]
  },
  {
   "cell_type": "code",
   "execution_count": 3,
   "id": "ceb1e507",
   "metadata": {},
   "outputs": [
    {
     "data": {
      "text/plain": [
       "(1.5959455386610577,\n",
       " 0.6603094907091882,\n",
       " 3,\n",
       " array([[  42.76531299,  442.23468701],\n",
       "        [ 146.81287862, 1518.18712138],\n",
       "        [ 131.11756787, 1355.88243213],\n",
       "        [  72.30424052,  747.69575948]]))"
      ]
     },
     "execution_count": 3,
     "metadata": {},
     "output_type": "execute_result"
    }
   ],
   "source": [
    "stats.chi2_contingency([df[\"East\"], df[\"West\"], df[\"North\"], df[\"South\"]])"
   ]
  },
  {
   "cell_type": "markdown",
   "id": "92553265",
   "metadata": {},
   "source": [
    "P value of Chi-Square test  == 0.66 > α\n",
    "\n",
    "## Thus HO is accepted.  \n",
    "## The male-female buyer rations are similar across regions  "
   ]
  }
 ],
 "metadata": {
  "kernelspec": {
   "display_name": "Python 3",
   "language": "python",
   "name": "python3"
  },
  "language_info": {
   "codemirror_mode": {
    "name": "ipython",
    "version": 3
   },
   "file_extension": ".py",
   "mimetype": "text/x-python",
   "name": "python",
   "nbconvert_exporter": "python",
   "pygments_lexer": "ipython3",
   "version": "3.8.8"
  }
 },
 "nbformat": 4,
 "nbformat_minor": 5
}
