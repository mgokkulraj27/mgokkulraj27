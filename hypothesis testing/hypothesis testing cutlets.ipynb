{
 "cells": [
  {
   "cell_type": "markdown",
   "id": "f720d964",
   "metadata": {},
   "source": [
    "# import necessary libraries"
   ]
  },
  {
   "cell_type": "code",
   "execution_count": 2,
   "id": "a515d8d1",
   "metadata": {},
   "outputs": [],
   "source": [
    "import pandas as pd\n",
    "import numpy as np\n",
    "from scipy import stats"
   ]
  },
  {
   "cell_type": "markdown",
   "id": "7e9ccd0e",
   "metadata": {},
   "source": [
    "##  Business Problem\n",
    "Is there significant difference in the diameter of the cutlet ?\n"
   ]
  },
  {
   "cell_type": "markdown",
   "id": "04a3826b",
   "metadata": {},
   "source": [
    "## Data description\n",
    "\n",
    "α is given as 0.05 (95% Confidence)\n",
    "\n",
    "Y is a Continious Data \n",
    "X is a Discrete Data\n",
    "\n",
    "Are Y1 and Y2 normal ?\n",
    "\n",
    "H0 = Y1 and Y2 are normal  \n",
    "H1 = Y1 and Y2 are not normal\n"
   ]
  },
  {
   "cell_type": "markdown",
   "id": "691c7d8d",
   "metadata": {},
   "source": [
    "## __3 - Normality Test__  "
   ]
  },
  {
   "cell_type": "code",
   "execution_count": 3,
   "id": "b09f4ad5",
   "metadata": {},
   "outputs": [],
   "source": [
    "df = pd.read_csv(\"Cutlets.csv\")"
   ]
  },
  {
   "cell_type": "code",
   "execution_count": 6,
   "id": "c59f63bd",
   "metadata": {},
   "outputs": [
    {
     "data": {
      "text/plain": [
       "ShapiroResult(statistic=0.9649458527565002, pvalue=0.3199819028377533)"
      ]
     },
     "execution_count": 6,
     "metadata": {},
     "output_type": "execute_result"
    }
   ],
   "source": [
    "shapiro_unit_a = stats.shapiro(df[\"Unit A\"])\n",
    "shapiro_unit_a"
   ]
  },
  {
   "cell_type": "markdown",
   "id": "3a200c49",
   "metadata": {},
   "source": [
    "P value for Unit A == 0.32 > α"
   ]
  },
  {
   "cell_type": "code",
   "execution_count": 7,
   "id": "1ca98aa8",
   "metadata": {},
   "outputs": [
    {
     "data": {
      "text/plain": [
       "ShapiroResult(statistic=0.9727300405502319, pvalue=0.5224985480308533)"
      ]
     },
     "execution_count": 7,
     "metadata": {},
     "output_type": "execute_result"
    }
   ],
   "source": [
    "shapiro_unit_b = stats.shapiro(df[\"Unit B\"])\n",
    "shapiro_unit_b"
   ]
  },
  {
   "cell_type": "markdown",
   "id": "b16ca76c",
   "metadata": {},
   "source": [
    "(0.9727300405502319, 0.5224985480308533)  \n",
    "P value for Unit B == 0.52 > α"
   ]
  },
  {
   "cell_type": "markdown",
   "id": "8137ed55",
   "metadata": {},
   "source": [
    "### HO is accepted. Thats is both Y1 and Y2 are normal"
   ]
  },
  {
   "cell_type": "markdown",
   "id": "68ff9af1",
   "metadata": {},
   "source": [
    "## __4 - External Condition__"
   ]
  },
  {
   "cell_type": "markdown",
   "id": "3ebedbbc",
   "metadata": {},
   "source": [
    "### External condition is same.  \n",
    "### By the above analysis we can perform Paired T Test"
   ]
  },
  {
   "cell_type": "markdown",
   "id": "0a5201d3",
   "metadata": {},
   "source": [
    "H0 == Mean for Y1 and Y2 are equal (There is no significance difference between diameter of the Culets)  \n",
    "H1 == Mean for Y1 and Y2 are not equal (There is a significance difference between diameter of the Culets)"
   ]
  },
  {
   "cell_type": "code",
   "execution_count": 8,
   "id": "dde6edc1",
   "metadata": {},
   "outputs": [
    {
     "data": {
      "text/plain": [
       "Ttest_relResult(statistic=0.7536787225614314, pvalue=0.4562300768038412)"
      ]
     },
     "execution_count": 8,
     "metadata": {},
     "output_type": "execute_result"
    }
   ],
   "source": [
    "stats.ttest_rel(df[\"Unit A\"], df[\"Unit B\"])"
   ]
  },
  {
   "cell_type": "markdown",
   "id": "4300c8bb",
   "metadata": {},
   "source": [
    "Ttest_relResult(statistic=0.7536787225614323, pvalue=0.45623007680384076)  \n",
    "P value of the Paired T Test is == 0.45 > α  "
   ]
  },
  {
   "cell_type": "markdown",
   "id": "b12bff67",
   "metadata": {},
   "source": [
    "## Thus H0 is accepted.  \n",
    "## Mean of both Y1 and Y2 are equal"
   ]
  }
 ],
 "metadata": {
  "kernelspec": {
   "display_name": "Python 3",
   "language": "python",
   "name": "python3"
  },
  "language_info": {
   "codemirror_mode": {
    "name": "ipython",
    "version": 3
   },
   "file_extension": ".py",
   "mimetype": "text/x-python",
   "name": "python",
   "nbconvert_exporter": "python",
   "pygments_lexer": "ipython3",
   "version": "3.8.8"
  }
 },
 "nbformat": 4,
 "nbformat_minor": 5
}
